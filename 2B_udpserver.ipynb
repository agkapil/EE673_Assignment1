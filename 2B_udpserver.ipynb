{
 "cells": [
  {
   "cell_type": "code",
   "execution_count": null,
   "id": "1110e590",
   "metadata": {},
   "outputs": [],
   "source": [
    "#Although sockets already included in the standard library\n",
    "#but install soctet if the computer doesn't recognise the socket\n",
    "# use command pip install sockets\n",
    "\n",
    "#pip3 install threading if computer refuse to recognise the threading\n",
    "import threading\n",
    "from socket import *\n",
    "\n",
    "def send_message():\n",
    "    serverName = '172.23.7.176'\n",
    "    serverPort=8081\n",
    "    clientSocket = socket(AF_INET, SOCK_DGRAM)\n",
    "    while 1:\n",
    "        message=input(\"\\nPlease type your message:\")\n",
    "        clientSocket.sendto(message.encode(), (serverName, serverPort))\n",
    "  \n",
    "    clientSocket.close()\n",
    "def receive_message():\n",
    "    serverSocket =socket(AF_INET, SOCK_DGRAM)\n",
    "    serverPort=8081\n",
    "    serverSocket.bind(('172.23.6.193', serverPort))\n",
    "    print('The server is at port: ', serverSocket.getsockname())\n",
    "\n",
    "    while 1:\n",
    "        message, clientAddress =serverSocket.recvfrom(2048)\n",
    "        # print('Recieved request from', clientAddress)\n",
    "        print('\\nMessage From the Phone:', message.decode('ascii'))\n",
    "if __name__ == \"__main__\":\n",
    "    # creating thread\n",
    "    # This is a two way communication server and these threads will run independently of each other to send and receive the\n",
    "    # message from the phone\n",
    "    thread1 = threading.Thread(target=receive_message)\n",
    "    thread2 = threading.Thread(target=send_message)\n",
    " \n",
    "    thread1.start()\n",
    "    thread2.start()\n",
    " \n",
    "    thread1.join() \n",
    "    thread2.join() \n"
   ]
  }
 ],
 "metadata": {
  "kernelspec": {
   "display_name": "Python 3 (ipykernel)",
   "language": "python",
   "name": "python3"
  },
  "language_info": {
   "codemirror_mode": {
    "name": "ipython",
    "version": 3
   },
   "file_extension": ".py",
   "mimetype": "text/x-python",
   "name": "python",
   "nbconvert_exporter": "python",
   "pygments_lexer": "ipython3",
   "version": "3.9.7"
  }
 },
 "nbformat": 4,
 "nbformat_minor": 5
}
