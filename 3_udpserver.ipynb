{
 "cells": [
  {
   "cell_type": "code",
   "execution_count": null,
   "id": "c603fd2e",
   "metadata": {},
   "outputs": [],
   "source": [
    "import socket\n",
    "import random\n",
    "\n",
    "sock=socket.socket(socket.AF_INET,socket.SOCK_DGRAM)\n",
    "address = '127.0.0.1'\n",
    "port = 5051\n",
    "\n",
    "sock.bind((address,port))\n",
    "print(\"Ping server listening on port\", port)\n",
    "\n",
    "while True:\n",
    "    message, client_address = sock.recvfrom(1024)\n",
    "\n",
    "    rand = random.randint(0, 10)\n",
    "    if rand < 4: // if the value is less than \n",
    "        continue\n",
    "\n",
    "    sock.sendto(\"pong\".encode(), client_address)\n",
    "\n",
    "sock.close()\n"
   ]
  },
  {
   "cell_type": "code",
   "execution_count": null,
   "id": "b37b4338",
   "metadata": {},
   "outputs": [],
   "source": []
  }
 ],
 "metadata": {
  "kernelspec": {
   "display_name": "Python 3 (ipykernel)",
   "language": "python",
   "name": "python3"
  },
  "language_info": {
   "codemirror_mode": {
    "name": "ipython",
    "version": 3
   },
   "file_extension": ".py",
   "mimetype": "text/x-python",
   "name": "python",
   "nbconvert_exporter": "python",
   "pygments_lexer": "ipython3",
   "version": "3.9.7"
  }
 },
 "nbformat": 4,
 "nbformat_minor": 5
}
