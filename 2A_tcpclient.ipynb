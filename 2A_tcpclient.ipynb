{
 "cells": [
  {
   "cell_type": "code",
   "execution_count": 1,
   "id": "9a4f4e6e",
   "metadata": {},
   "outputs": [
    {
     "name": "stdout",
     "output_type": "stream",
     "text": [
      "Input lowercase sentence:This is a testing example!\n",
      "Sending data to server at: ('127.0.0.1', 8081)\n",
      "From server: THIS IS A TESTING EXAMPLE!\n"
     ]
    }
   ],
   "source": [
    "from socket import *\n",
    " \n",
    "# this is the client side of the tcp connnection we will request the server running from file Q2_A_TCPSERVER.PY to convert\n",
    "# the given input to upercase. \n",
    "clientSocket = socket(AF_INET, SOCK_STREAM)\n",
    "clientSocket.connect(('127.0.0.1', 8081))\n",
    "\n",
    "message=input('Input lowercase sentence:')\n",
    "clientSocket.send(message.encode())\n",
    "print('Sending data to server at:', clientSocket.getpeername())\n",
    "modifiedMessage =clientSocket.recv(1024)\n",
    "\n",
    "print('From server:', modifiedMessage.decode())\n",
    "clientSocket.close()"
   ]
  },
  {
   "cell_type": "code",
   "execution_count": null,
   "id": "ef1efa3d",
   "metadata": {},
   "outputs": [],
   "source": []
  }
 ],
 "metadata": {
  "kernelspec": {
   "display_name": "Python 3 (ipykernel)",
   "language": "python",
   "name": "python3"
  },
  "language_info": {
   "codemirror_mode": {
    "name": "ipython",
    "version": 3
   },
   "file_extension": ".py",
   "mimetype": "text/x-python",
   "name": "python",
   "nbconvert_exporter": "python",
   "pygments_lexer": "ipython3",
   "version": "3.9.7"
  }
 },
 "nbformat": 4,
 "nbformat_minor": 5
}
