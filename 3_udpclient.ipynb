{
 "cells": [
  {
   "cell_type": "code",
   "execution_count": 1,
   "id": "242ab4cc",
   "metadata": {},
   "outputs": [
    {
     "name": "stdout",
     "output_type": "stream",
     "text": [
      "Sent Ping Message #1\n",
      "Received pong\n",
      "Sent Ping Message #2\n",
      "Received pong\n",
      "Sent Ping Message #3\n",
      "Received pong\n",
      "Sent Ping Message #4\n",
      "#4 The packet get lost\n",
      "\n",
      "Sent Ping Message #5\n",
      "#5 The packet get lost\n",
      "\n",
      "Sent Ping Message #6\n",
      "#6 The packet get lost\n",
      "\n",
      "Sent Ping Message #7\n",
      "Received pong\n",
      "Sent Ping Message #8\n",
      "Received pong\n",
      "Sent Ping Message #9\n",
      "#9 The packet get lost\n",
      "\n",
      "Sent Ping Message #10\n",
      "Received pong\n",
      "RTT max:  0.008768320083618164\n",
      "RTT min:  0.0010535717010498047\n",
      "RTT average time:  0.003276387850443522\n",
      "Number of packets lost: 4\n",
      "closing socket\n"
     ]
    }
   ],
   "source": [
    "import numpy as np\n",
    "import socket\n",
    "import time\n",
    "# import numpy as np\n",
    "\n",
    "sock = socket.socket(socket.AF_INET, socket.SOCK_DGRAM)\n",
    "address = ('localhost', 5051)\n",
    "sock.settimeout(1)\n",
    "dropped=0;\n",
    "packet_queue=[]\n",
    "test=0\n",
    "try:\n",
    "    for i in range(1, 11):\n",
    "        start = time.time()\n",
    "        message = 'Ping Message No.' + str(i)\n",
    "        try:\n",
    "            sent = sock.sendto(message.encode(), address)\n",
    "            print(\"Sent \" + message)\n",
    "            data, server = sock.recvfrom(4096)\n",
    "            print(\"Received \" + data.decode())\n",
    "            end = time.time();\n",
    "            elapsed = end - start\n",
    "            packet_queue.append(elapsed) \n",
    "        except socket.timeout:\n",
    "            print(\"#\" + str(i) + \" The packet get lost\\n\")\n",
    "            dropped=dropped+1;\n",
    "\n",
    "finally:\n",
    "    print(\"RTT maximum value: \", max(packet_queue))\n",
    "    print(\"RTT minimum value: \" , min(packet_queue))\n",
    "    print(\"RTT average time: \" , np.mean(packet_queue))\n",
    "    print(\"Number of packets lost is:\", dropped)\n",
    "    print(\"Now, closing socket\")\n",
    "    sock.close()\n"
   ]
  },
  {
   "cell_type": "code",
   "execution_count": null,
   "id": "9a005a50",
   "metadata": {},
   "outputs": [],
   "source": []
  }
 ],
 "metadata": {
  "kernelspec": {
   "display_name": "Python 3 (ipykernel)",
   "language": "python",
   "name": "python3"
  },
  "language_info": {
   "codemirror_mode": {
    "name": "ipython",
    "version": 3
   },
   "file_extension": ".py",
   "mimetype": "text/x-python",
   "name": "python",
   "nbconvert_exporter": "python",
   "pygments_lexer": "ipython3",
   "version": "3.9.7"
  }
 },
 "nbformat": 4,
 "nbformat_minor": 5
}
