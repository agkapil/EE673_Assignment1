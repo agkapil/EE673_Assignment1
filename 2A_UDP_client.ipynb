{
 "cells": [
  {
   "cell_type": "code",
   "execution_count": 1,
   "id": "72836878",
   "metadata": {},
   "outputs": [
    {
     "name": "stdout",
     "output_type": "stream",
     "text": [
      "Input lowercase sentence:Hi there!\n",
      "HI THERE!\n"
     ]
    }
   ],
   "source": [
    "#Although sockets already included in the standard library\n",
    "#but install soctet if the computer doesn't recognise the socket\n",
    "# use command pip install sockets\n",
    "from socket import *\n",
    " \n",
    "# this is the client side of the UDP connnection we will request the server running from file Q2_A_UDPSERVER.PY to convert\n",
    "# the given input to upercase. \n",
    "clientSocket = socket(AF_INET, SOCK_DGRAM)\n",
    "\n",
    "message=input('Input lowercase sentence:')\n",
    "clientSocket.sendto(message.encode(), ('172.23.7.176', 5051))\n",
    "modifiedMessage, serverAddress =clientSocket.recvfrom(7782)\n",
    "\n",
    "print(modifiedMessage.decode())\n",
    "clientSocket.close()\n"
   ]
  },
  {
   "cell_type": "code",
   "execution_count": null,
   "id": "a70984a3",
   "metadata": {},
   "outputs": [],
   "source": []
  }
 ],
 "metadata": {
  "kernelspec": {
   "display_name": "Python 3 (ipykernel)",
   "language": "python",
   "name": "python3"
  },
  "language_info": {
   "codemirror_mode": {
    "name": "ipython",
    "version": 3
   },
   "file_extension": ".py",
   "mimetype": "text/x-python",
   "name": "python",
   "nbconvert_exporter": "python",
   "pygments_lexer": "ipython3",
   "version": "3.9.7"
  }
 },
 "nbformat": 4,
 "nbformat_minor": 5
}
