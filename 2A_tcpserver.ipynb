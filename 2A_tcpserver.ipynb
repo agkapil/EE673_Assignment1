{
 "cells": [
  {
   "cell_type": "code",
   "execution_count": null,
   "id": "d15cfbfd",
   "metadata": {},
   "outputs": [
    {
     "name": "stdout",
     "output_type": "stream",
     "text": [
      "The server is listening at port:  ('127.0.0.1', 8081)\n",
      "Recieved request from ('127.0.0.1', 60752)\n",
      "Started connection over new local socket: ('127.0.0.1', 60752)\n",
      "Waiting for user input\n",
      "Request Complete, connection terminated\n"
     ]
    }
   ],
   "source": [
    "from socket import *\n",
    "serverSocket =socket(AF_INET, SOCK_STREAM)\n",
    "serverPort=8081\n",
    "serverSocket.bind(('localhost', serverPort))\n",
    "serverSocket.listen(1)\n",
    "print('The server is listening at port: ', serverSocket.getsockname())\n",
    "# this is the server side of the TCP connnection  and listening on port 8081 on local machine and as soon as some device connect to it\n",
    "# it will modify the message and send back to the client. \n",
    "\n",
    "while 1:\n",
    "    connectionSocket, addr=serverSocket.accept()\n",
    "    \n",
    "    print('Recieved request from', connectionSocket.getpeername())\n",
    "    print('Started connection over new local socket:', connectionSocket.getpeername())\n",
    "    print('Waiting for user input')\n",
    "    \n",
    "    message=connectionSocket.recv(1024)\n",
    "    modifiedMessage=message.upper()\n",
    "    connectionSocket.send(modifiedMessage)\n",
    "    connectionSocket.close()\n",
    "    print('Request Complete, connection terminated')"
   ]
  },
  {
   "cell_type": "code",
   "execution_count": null,
   "id": "a2d151ef",
   "metadata": {},
   "outputs": [],
   "source": []
  }
 ],
 "metadata": {
  "kernelspec": {
   "display_name": "Python 3 (ipykernel)",
   "language": "python",
   "name": "python3"
  },
  "language_info": {
   "codemirror_mode": {
    "name": "ipython",
    "version": 3
   },
   "file_extension": ".py",
   "mimetype": "text/x-python",
   "name": "python",
   "nbconvert_exporter": "python",
   "pygments_lexer": "ipython3",
   "version": "3.9.7"
  }
 },
 "nbformat": 4,
 "nbformat_minor": 5
}
