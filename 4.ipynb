{
 "cells": [
  {
   "cell_type": "code",
   "execution_count": null,
   "id": "0737d798",
   "metadata": {},
   "outputs": [
    {
     "name": "stdout",
     "output_type": "stream",
     "text": [
      "Please Provide your iitk mail login credential to use SMTP server\n",
      "Enter Your Email:kapilag@iitk.ac.in\n",
      "Enter Your Password:uiefhiw64332\n",
      "Enter to whom you want to send the emails if multiple please provide a space between them: ***@iitk.ac.in\n",
      "Enter Your subject: My first email using code\n",
      "Desctiption: hi there\n"
     ]
    }
   ],
   "source": [
    "#pip install email if email package is not recognised\n",
    "import smtplib, ssl\n",
    "from email import encoders\n",
    "from email.message import Message\n",
    "from email.mime.audio import MIMEAudio\n",
    "from email.mime.base import MIMEBase\n",
    "from email.mime.image import MIMEImage\n",
    "from email.mime.multipart import MIMEMultipart\n",
    "from email.mime.text import MIMEText\n",
    "\n",
    "class Mail:\n",
    "\n",
    "    def __init__(self,email,password):\n",
    "        self.port = 465\n",
    "        self.smtp_server_domain_name = \"mmtp.iitk.ac.in\"\n",
    "        self.sender_mail = email\n",
    "        self.password = password\n",
    "\n",
    "    def send(self, emails, subject, content):\n",
    "        ssl_context = ssl.create_default_context()\n",
    "        service = smtplib.SMTP_SSL(self.smtp_server_domain_name, self.port, context=ssl_context)\n",
    "        service.login(self.sender_mail, self.password)\n",
    "        headers = [\"From: \"+self.sender_mail, \"Subject: \" + subject,\n",
    "                   \"MIME-Version: 1.0\", \"Content-Type: text/html\"]\n",
    "        headers = \"\\r\\n\".join(headers)\n",
    "        for email in emails:\n",
    "            result = service.sendmail(self.sender_mail, email, headers + \"\\r\\n\\r\\n\" + content)\n",
    "            print(\"Email Delivered Successfully\")\n",
    "        service.quit()\n",
    "\n",
    "\n",
    "if __name__ == '__main__':\n",
    "    print(\"Please Provide your iitk mail login credential to use SMTP server\")\n",
    "    email = input(\"Enter Your Email:\")\n",
    "    password = input(\"Enter Your Password:\")\n",
    "    mails = input(\"Enter to whom you want to send the emails if multiple please provide a space between them: \").split()\n",
    "    subject = input(\"Enter Your subject: \")\n",
    "    content = input(\"Desctiption: \")\n",
    "\n",
    "    mail = Mail(email,password)\n",
    "    mail.send(mails, subject, content)\n"
   ]
  },
  {
   "cell_type": "code",
   "execution_count": null,
   "id": "cb20b212",
   "metadata": {},
   "outputs": [],
   "source": []
  }
 ],
 "metadata": {
  "kernelspec": {
   "display_name": "Python 3 (ipykernel)",
   "language": "python",
   "name": "python3"
  },
  "language_info": {
   "codemirror_mode": {
    "name": "ipython",
    "version": 3
   },
   "file_extension": ".py",
   "mimetype": "text/x-python",
   "name": "python",
   "nbconvert_exporter": "python",
   "pygments_lexer": "ipython3",
   "version": "3.9.7"
  }
 },
 "nbformat": 4,
 "nbformat_minor": 5
}
