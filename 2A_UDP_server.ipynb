{
 "cells": [
  {
   "cell_type": "code",
   "execution_count": null,
   "id": "24d59988",
   "metadata": {},
   "outputs": [
    {
     "name": "stdout",
     "output_type": "stream",
     "text": [
      "The server is listening at port:  ('172.23.7.176', 5051)\n"
     ]
    }
   ],
   "source": [
    "#Although sockets already included in the standard library\n",
    "#but install soctet if the computer doesn't recognise the socket\n",
    "# use command pip install sockets\n",
    "from socket import *\n",
    "serverSocket =socket(AF_INET, SOCK_DGRAM)\n",
    "serverSocket.bind(('172.23.7.176', 5051))  #enter the pc ip address\n",
    "\n",
    "\n",
    "# this is the server side of the UDP connnection  and listning on port 5051 on local machine and as soon as some device connect to it\n",
    "# it will modify the message and send back to the client. \n",
    "print('The server is listening at port: ', serverSocket.getsockname())\n",
    "\n",
    "#the loop will continue as long as it is receiving any messages\n",
    "while 1:\n",
    "    message, clientAddress =serverSocket.recvfrom(7782)\n",
    "    print('Recieved request from', clientAddress)\n",
    "    modifiedMessage=message.upper()\n",
    "    serverSocket.sendto(modifiedMessage, clientAddress)\n"
   ]
  },
  {
   "cell_type": "code",
   "execution_count": null,
   "id": "f3551592",
   "metadata": {},
   "outputs": [],
   "source": []
  }
 ],
 "metadata": {
  "kernelspec": {
   "display_name": "Python 3 (ipykernel)",
   "language": "python",
   "name": "python3"
  },
  "language_info": {
   "codemirror_mode": {
    "name": "ipython",
    "version": 3
   },
   "file_extension": ".py",
   "mimetype": "text/x-python",
   "name": "python",
   "nbconvert_exporter": "python",
   "pygments_lexer": "ipython3",
   "version": "3.9.7"
  }
 },
 "nbformat": 4,
 "nbformat_minor": 5
}
